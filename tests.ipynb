{
 "cells": [
  {
   "cell_type": "code",
   "execution_count": 60,
   "metadata": {},
   "outputs": [],
   "source": [
    "import requests\n",
    "from requests.auth import HTTPBasicAuth"
   ]
  },
  {
   "cell_type": "code",
   "execution_count": 61,
   "metadata": {},
   "outputs": [],
   "source": [
    "import random"
   ]
  },
  {
   "cell_type": "code",
   "execution_count": 62,
   "metadata": {},
   "outputs": [],
   "source": [
    "import json"
   ]
  },
  {
   "cell_type": "code",
   "execution_count": 63,
   "metadata": {},
   "outputs": [
    {
     "name": "stdout",
     "output_type": "stream",
     "text": [
      "The dotenv extension is already loaded. To reload it, use:\n",
      "  %reload_ext dotenv\n"
     ]
    }
   ],
   "source": [
    "import os\n",
    "\n",
    "%load_ext dotenv\n",
    "%dotenv"
   ]
  },
  {
   "cell_type": "code",
   "execution_count": 64,
   "metadata": {},
   "outputs": [],
   "source": [
    "host = 'http://localhost:5000/'"
   ]
  },
  {
   "cell_type": "code",
   "execution_count": 65,
   "metadata": {},
   "outputs": [],
   "source": [
    "auth=HTTPBasicAuth(os.environ.get('BASIC_AUTH_USERNAME'), os.environ.get('BASIC_AUTH_PASSWORD') )"
   ]
  },
  {
   "cell_type": "code",
   "execution_count": 66,
   "metadata": {},
   "outputs": [
    {
     "data": {
      "text/plain": [
       "<Response [200]>"
      ]
     },
     "execution_count": 66,
     "metadata": {},
     "output_type": "execute_result"
    }
   ],
   "source": [
    "requests.get(host, auth=auth )"
   ]
  },
  {
   "cell_type": "code",
   "execution_count": 67,
   "metadata": {},
   "outputs": [
    {
     "data": {
      "text/plain": [
       "{'execId': 'exec9319399',\n",
       " 'orderId': '1748812',\n",
       " 'time': '20180604  13:32:52',\n",
       " 'acctNumber': 'U9628912',\n",
       " 'exchange': 'CBOE',\n",
       " 'side': 'BOT',\n",
       " 'shares': 13,\n",
       " 'cumQty': -13,\n",
       " 'price': 7.23,\n",
       " 'avgPrice': -7.23,\n",
       " 'permId': '9726181',\n",
       " 'localSymbol': 'GOOGL 6 C1200.25 Equity',\n",
       " 'secType': 'OPT',\n",
       " 'symbol': 'GOOGL',\n",
       " 'currency': 'USD',\n",
       " 'primaryExchange': '',\n",
       " 'lastTradeDateOrcontractMonth': '20180615',\n",
       " 'multiplier': 100,\n",
       " 'strike': 1200.25,\n",
       " 'right': 'C'}"
      ]
     },
     "execution_count": 67,
     "metadata": {},
     "output_type": "execute_result"
    }
   ],
   "source": [
    "data = {\n",
    "    'execId': 'exec' + str( random.randint(1000, 10000000) ),\n",
    "    'orderId': str( random.randint(1000, 10000000) ),\n",
    "    'time': '20180604  13:32:52',\n",
    "    'acctNumber': 'U' + str( random.randint(1000, 10000000) ),\n",
    "    'exchange': 'CBOE',\n",
    "    'side': 'BOT',\n",
    "    'shares': 13,\n",
    "    'cumQty': -13,\n",
    "    'price': 7.23,\n",
    "    'avgPrice': -7.23,\n",
    "    'permId': str( random.randint(1000, 10000000) ),\n",
    "    \n",
    "    'localSymbol': 'GOOGL 6 C1200.25 Equity',\n",
    "    'secType': 'OPT',\n",
    "    'symbol': 'GOOGL',\n",
    "    'currency': 'USD',\n",
    "    'primaryExchange': '',\n",
    "    'lastTradeDateOrcontractMonth': '20180615',\n",
    "    'multiplier': 100,\n",
    "    'strike': 1200.25,\n",
    "    'right': 'C'\n",
    "    \n",
    "}\n",
    "data"
   ]
  },
  {
   "cell_type": "code",
   "execution_count": 68,
   "metadata": {},
   "outputs": [
    {
     "data": {
      "text/plain": [
       "{'contract': {'localSymbol': 'GOOGL 6 C1271.25 Equity'},\n",
       " 'execution': {'execId': 'exec5038877'},\n",
       " 'inputData': {'acctNumber': 'U2254982',\n",
       "  'avgPrice': -7.23,\n",
       "  'cumQty': -13,\n",
       "  'currency': 'USD',\n",
       "  'exchange': 'CBOE',\n",
       "  'execId': 'exec5038877',\n",
       "  'lastTradeDateOrcontractMonth': '20180615',\n",
       "  'localSymbol': 'GOOGL 6 C1271.25 Equity',\n",
       "  'multiplier': 100,\n",
       "  'orderId': '7205483',\n",
       "  'permId': '1465842',\n",
       "  'price': 7.23,\n",
       "  'primaryExchange': '',\n",
       "  'right': 'C',\n",
       "  'secType': 'OPT',\n",
       "  'shares': 13,\n",
       "  'side': 'BOT',\n",
       "  'strike': 1200.25,\n",
       "  'symbol': 'GOOGL',\n",
       "  'time': '20180604  13:32:52'},\n",
       " 'order': {'orderId': 7205483},\n",
       " 'status': 'ok'}"
      ]
     },
     "execution_count": 68,
     "metadata": {},
     "output_type": "execute_result"
    }
   ],
   "source": [
    "data2 = {\n",
    "    'execId': 'exec' + str( random.randint(1000, 10000000) ),\n",
    "    'orderId': str( random.randint(1000, 10000000) ),\n",
    "    'time': '20180604  13:32:52',\n",
    "    'acctNumber': 'U' + str( random.randint(1000, 10000000) ),\n",
    "    'exchange': 'CBOE',\n",
    "    'side': 'BOT',\n",
    "    'shares': 13,\n",
    "    'cumQty': -13,\n",
    "    'price': 7.23,\n",
    "    'avgPrice': -7.23,\n",
    "    'permId': str( random.randint(1000, 10000000) ),\n",
    "    \n",
    "    'localSymbol': 'GOOGL 6 C' + str( random.randint(900, 1400) ) + '.25 Equity',\n",
    "    'secType': 'OPT',\n",
    "    'symbol': 'GOOGL',\n",
    "    'currency': 'USD',\n",
    "    'primaryExchange': '',\n",
    "    'lastTradeDateOrcontractMonth': '20180615',\n",
    "    'multiplier': 100,\n",
    "    'strike': 1200.25,\n",
    "    'right': 'C'\n",
    "    \n",
    "}\n",
    "\n",
    "res = requests.post(host + 'executions', auth=auth,json=data2 )\n",
    "#res.content\n",
    "json.loads(res.content)"
   ]
  },
  {
   "cell_type": "code",
   "execution_count": null,
   "metadata": {},
   "outputs": [],
   "source": []
  }
 ],
 "metadata": {
  "kernelspec": {
   "display_name": "Python 3",
   "language": "python",
   "name": "python3"
  },
  "language_info": {
   "codemirror_mode": {
    "name": "ipython",
    "version": 3
   },
   "file_extension": ".py",
   "mimetype": "text/x-python",
   "name": "python",
   "nbconvert_exporter": "python",
   "pygments_lexer": "ipython3",
   "version": "3.6.5"
  }
 },
 "nbformat": 4,
 "nbformat_minor": 2
}
