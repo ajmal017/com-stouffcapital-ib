{
 "cells": [
  {
   "cell_type": "code",
   "execution_count": null,
   "metadata": {},
   "outputs": [],
   "source": [
    "import requests\n",
    "from requests.auth import HTTPBasicAuth"
   ]
  },
  {
   "cell_type": "code",
   "execution_count": null,
   "metadata": {},
   "outputs": [],
   "source": [
    "import random"
   ]
  },
  {
   "cell_type": "code",
   "execution_count": null,
   "metadata": {},
   "outputs": [],
   "source": [
    "import json"
   ]
  },
  {
   "cell_type": "code",
   "execution_count": null,
   "metadata": {},
   "outputs": [],
   "source": [
    "import os\n",
    "\n",
    "%load_ext dotenv\n",
    "%dotenv"
   ]
  },
  {
   "cell_type": "code",
   "execution_count": null,
   "metadata": {},
   "outputs": [],
   "source": [
    "host = 'http://localhost:5000/'"
   ]
  },
  {
   "cell_type": "code",
   "execution_count": null,
   "metadata": {},
   "outputs": [],
   "source": [
    "auth=HTTPBasicAuth(os.environ.get('BASIC_AUTH_USERNAME'), os.environ.get('BASIC_AUTH_PASSWORD') )"
   ]
  },
  {
   "cell_type": "code",
   "execution_count": null,
   "metadata": {},
   "outputs": [],
   "source": [
    "requests.get(host, auth=auth )"
   ]
  },
  {
   "cell_type": "code",
   "execution_count": null,
   "metadata": {},
   "outputs": [],
   "source": [
    "data = {\n",
    "    'execId': 'exec' + str( random.randint(1000, 10000000) ),\n",
    "    'orderId': str( random.randint(1000, 10000000) ),\n",
    "    'time': '20180604  13:32:52',\n",
    "    'acctNumber': 'U' + str( random.randint(1000, 10000000) ),\n",
    "    'exchange': 'CBOE',\n",
    "    'side': 'BOT',\n",
    "    'shares': 13,\n",
    "    'cumQty': -13,\n",
    "    'price': 7.23,\n",
    "    'avgPrice': -7.23,\n",
    "    'permId': str( random.randint(1000, 10000000) ),\n",
    "    \n",
    "    'localSymbol': 'GOOGL 6 C1200.25 Equity',\n",
    "    'secType': 'OPT',\n",
    "    'symbol': 'GOOGL',\n",
    "    'currency': 'USD',\n",
    "    'primaryExchange': '',\n",
    "    'lastTradeDateOrContractMonth': '20180615',\n",
    "    'multiplier': 100,\n",
    "    'strike': 1200.25,\n",
    "    'right': 'C'\n",
    "    \n",
    "}\n",
    "data"
   ]
  },
  {
   "cell_type": "code",
   "execution_count": null,
   "metadata": {
    "scrolled": true
   },
   "outputs": [],
   "source": [
    "data2 = {\n",
    "    'execId': 'exec' + str( random.randint(1000, 10000000) ),\n",
    "    'orderId': str( random.randint(1000, 10000000) ),\n",
    "    'time': '20180604  13:32:52',\n",
    "    'acctNumber': 'U' + str( random.randint(1000, 10000000) ),\n",
    "    'exchange': 'CBOE',\n",
    "    'side': 'BOT',\n",
    "    'shares': 13,\n",
    "    'cumQty': -13,\n",
    "    'price': 7.23,\n",
    "    'avgPrice': -7.23,\n",
    "    'permId': str( random.randint(1000, 10000000) ),\n",
    "    \n",
    "    'localSymbol': 'GOOGL 6 C' + str( random.randint(900, 1400) ) + '.25 Equity',\n",
    "    'secType': 'OPT',\n",
    "    'symbol': 'GOOGL',\n",
    "    'currency': 'USD',\n",
    "    'primaryExchange': '',\n",
    "    'lastTradeDateOrContractMonth': '20180615',\n",
    "    'multiplier': 100,\n",
    "    'strike': 1200.25,\n",
    "    'right': 'C'\n",
    "    \n",
    "}\n",
    "\n",
    "res = requests.post(host + 'executions', auth=auth,json=data2 )\n",
    "#res.content\n",
    "json.loads(res.content)"
   ]
  },
  {
   "cell_type": "code",
   "execution_count": null,
   "metadata": {},
   "outputs": [],
   "source": [
    "res = requests.get(host + 'bridge/missing', auth=auth )\n",
    "#res.content\n",
    "missings = json.loads(res.content)\n",
    "missings['ib']"
   ]
  },
  {
   "cell_type": "code",
   "execution_count": null,
   "metadata": {},
   "outputs": [],
   "source": [
    "for ib in missings['ib']:\n",
    "    data3 = {\n",
    "        \"localSymbol\": ib,\n",
    "        \"ticker\": ib.upper()\n",
    "    }\n",
    "    #res = requests.post(host + 'bridge', auth=auth,json=data3 )\n",
    "    #print(res.content)"
   ]
  },
  {
   "cell_type": "code",
   "execution_count": null,
   "metadata": {},
   "outputs": [],
   "source": []
  }
 ],
 "metadata": {
  "kernelspec": {
   "display_name": "Python 3",
   "language": "python",
   "name": "python3"
  },
  "language_info": {
   "codemirror_mode": {
    "name": "ipython",
    "version": 3
   },
   "file_extension": ".py",
   "mimetype": "text/x-python",
   "name": "python",
   "nbconvert_exporter": "python",
   "pygments_lexer": "ipython3",
   "version": "3.6.5"
  }
 },
 "nbformat": 4,
 "nbformat_minor": 2
}
