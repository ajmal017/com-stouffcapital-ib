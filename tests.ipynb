{
 "cells": [
  {
   "cell_type": "code",
   "execution_count": 1,
   "metadata": {},
   "outputs": [],
   "source": [
    "import requests\n",
    "from requests.auth import HTTPBasicAuth"
   ]
  },
  {
   "cell_type": "code",
   "execution_count": 2,
   "metadata": {},
   "outputs": [],
   "source": [
    "import random"
   ]
  },
  {
   "cell_type": "code",
   "execution_count": 3,
   "metadata": {},
   "outputs": [],
   "source": [
    "import json"
   ]
  },
  {
   "cell_type": "code",
   "execution_count": 4,
   "metadata": {},
   "outputs": [],
   "source": [
    "import os\n",
    "\n",
    "%load_ext dotenv\n",
    "%dotenv"
   ]
  },
  {
   "cell_type": "code",
   "execution_count": 5,
   "metadata": {},
   "outputs": [],
   "source": [
    "host = 'http://localhost:5000/'"
   ]
  },
  {
   "cell_type": "code",
   "execution_count": 6,
   "metadata": {},
   "outputs": [],
   "source": [
    "auth=HTTPBasicAuth(os.environ.get('BASIC_AUTH_USERNAME'), os.environ.get('BASIC_AUTH_PASSWORD') )"
   ]
  },
  {
   "cell_type": "code",
   "execution_count": 7,
   "metadata": {},
   "outputs": [
    {
     "data": {
      "text/plain": [
       "<Response [200]>"
      ]
     },
     "execution_count": 7,
     "metadata": {},
     "output_type": "execute_result"
    }
   ],
   "source": [
    "requests.get(host, auth=auth )"
   ]
  },
  {
   "cell_type": "code",
   "execution_count": 8,
   "metadata": {},
   "outputs": [
    {
     "data": {
      "text/plain": [
       "{'execId': 'exec3454604',\n",
       " 'orderId': '6483573',\n",
       " 'time': '20180604  13:32:52',\n",
       " 'acctNumber': 'U5701099',\n",
       " 'exchange': 'CBOE',\n",
       " 'side': 'BOT',\n",
       " 'shares': 13,\n",
       " 'cumQty': -13,\n",
       " 'price': 7.23,\n",
       " 'avgPrice': -7.23,\n",
       " 'permId': '6405472',\n",
       " 'localSymbol': 'GOOGL 6 C1200.25 Equity',\n",
       " 'secType': 'OPT',\n",
       " 'symbol': 'GOOGL',\n",
       " 'currency': 'USD',\n",
       " 'primaryExchange': '',\n",
       " 'lastTradeDateOrContractMonth': '20180615',\n",
       " 'multiplier': 100,\n",
       " 'strike': 1200.25,\n",
       " 'right': 'C'}"
      ]
     },
     "execution_count": 8,
     "metadata": {},
     "output_type": "execute_result"
    }
   ],
   "source": [
    "data = {\n",
    "    'execId': 'exec' + str( random.randint(1000, 10000000) ),\n",
    "    'orderId': str( random.randint(1000, 10000000) ),\n",
    "    'time': '20180604  13:32:52',\n",
    "    'acctNumber': 'U' + str( random.randint(1000, 10000000) ),\n",
    "    'exchange': 'CBOE',\n",
    "    'side': 'BOT',\n",
    "    'shares': 13,\n",
    "    'cumQty': -13,\n",
    "    'price': 7.23,\n",
    "    'avgPrice': -7.23,\n",
    "    'permId': str( random.randint(1000, 10000000) ),\n",
    "    \n",
    "    'localSymbol': 'GOOGL 6 C1200.25 Equity',\n",
    "    'secType': 'OPT',\n",
    "    'symbol': 'GOOGL',\n",
    "    'currency': 'USD',\n",
    "    'primaryExchange': '',\n",
    "    'lastTradeDateOrContractMonth': '20180615',\n",
    "    'multiplier': 100,\n",
    "    'strike': 1200.25,\n",
    "    'right': 'C'\n",
    "    \n",
    "}\n",
    "data"
   ]
  },
  {
   "cell_type": "code",
   "execution_count": 9,
   "metadata": {
    "scrolled": true
   },
   "outputs": [
    {
     "data": {
      "text/plain": [
       "{'contract': {'localSymbol': 'GOOGL 6 C903.25 Equity'},\n",
       " 'execution': {'execId': 'exec9884162'},\n",
       " 'inputData': {'acctNumber': 'U517532',\n",
       "  'avgPrice': -7.23,\n",
       "  'cumQty': -13,\n",
       "  'currency': 'USD',\n",
       "  'exchange': 'CBOE',\n",
       "  'execId': 'exec9884162',\n",
       "  'lastTradeDateOrContractMonth': '20180615',\n",
       "  'localSymbol': 'GOOGL 6 C903.25 Equity',\n",
       "  'multiplier': 100,\n",
       "  'orderId': '9662812',\n",
       "  'permId': '6083298',\n",
       "  'price': 7.23,\n",
       "  'primaryExchange': '',\n",
       "  'right': 'C',\n",
       "  'secType': 'OPT',\n",
       "  'shares': 13,\n",
       "  'side': 'BOT',\n",
       "  'strike': 1200.25,\n",
       "  'symbol': 'GOOGL',\n",
       "  'time': '20180604  13:32:52'},\n",
       " 'order': {'orderId': 9662812},\n",
       " 'status': 'ok'}"
      ]
     },
     "execution_count": 9,
     "metadata": {},
     "output_type": "execute_result"
    }
   ],
   "source": [
    "data2 = {\n",
    "    'execId': 'exec' + str( random.randint(1000, 10000000) ),\n",
    "    'orderId': str( random.randint(1000, 10000000) ),\n",
    "    'time': '20180604  13:32:52',\n",
    "    'acctNumber': 'U' + str( random.randint(1000, 10000000) ),\n",
    "    'exchange': 'CBOE',\n",
    "    'side': 'BOT',\n",
    "    'shares': 13,\n",
    "    'cumQty': -13,\n",
    "    'price': 7.23,\n",
    "    'avgPrice': -7.23,\n",
    "    'permId': str( random.randint(1000, 10000000) ),\n",
    "    \n",
    "    'localSymbol': 'GOOGL 6 C' + str( random.randint(900, 1400) ) + '.25 Equity',\n",
    "    'secType': 'OPT',\n",
    "    'symbol': 'GOOGL',\n",
    "    'currency': 'USD',\n",
    "    'primaryExchange': '',\n",
    "    'lastTradeDateOrContractMonth': '20180615',\n",
    "    'multiplier': 100,\n",
    "    'strike': 1200.25,\n",
    "    'right': 'C'\n",
    "    \n",
    "}\n",
    "\n",
    "res = requests.post(host + 'executions', auth=auth,json=data2 )\n",
    "#res.content\n",
    "json.loads(res.content)"
   ]
  },
  {
   "cell_type": "code",
   "execution_count": 12,
   "metadata": {},
   "outputs": [
    {
     "data": {
      "text/plain": [
       "['C LOGN JUN 18  4200',\n",
       " 'FB',\n",
       " 'FDAX JUN 18',\n",
       " 'GE',\n",
       " 'GOOGL 6 C903.25 Equity',\n",
       " 'NVDA',\n",
       " 'TSLA',\n",
       " 'TSLA  180608P00292500']"
      ]
     },
     "execution_count": 12,
     "metadata": {},
     "output_type": "execute_result"
    }
   ],
   "source": [
    "res = requests.get(host + 'bridge/missing', auth=auth )\n",
    "#res.content\n",
    "missings = json.loads(res.content)\n",
    "missings['ib']"
   ]
  },
  {
   "cell_type": "code",
   "execution_count": 11,
   "metadata": {},
   "outputs": [],
   "source": [
    "for ib in missings['ib']:\n",
    "    data3 = {\n",
    "        \"localSymbol\": ib,\n",
    "        \"ticker\": ib.upper()\n",
    "    }\n",
    "    #res = requests.post(host + 'bridge', auth=auth,json=data3 )\n",
    "    #print(res.content)"
   ]
  },
  {
   "cell_type": "code",
   "execution_count": null,
   "metadata": {},
   "outputs": [],
   "source": []
  }
 ],
 "metadata": {
  "kernelspec": {
   "display_name": "Python 3",
   "language": "python",
   "name": "python3"
  },
  "language_info": {
   "codemirror_mode": {
    "name": "ipython",
    "version": 3
   },
   "file_extension": ".py",
   "mimetype": "text/x-python",
   "name": "python",
   "nbconvert_exporter": "python",
   "pygments_lexer": "ipython3",
   "version": "3.6.5"
  }
 },
 "nbformat": 4,
 "nbformat_minor": 2
}
