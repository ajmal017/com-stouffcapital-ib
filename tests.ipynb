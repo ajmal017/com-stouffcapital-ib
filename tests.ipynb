{
 "cells": [
  {
   "cell_type": "markdown",
   "metadata": {},
   "source": [
    "!pip install dateparser"
   ]
  },
  {
   "cell_type": "code",
   "execution_count": null,
   "metadata": {},
   "outputs": [],
   "source": [
    "import random\n",
    "import json\n",
    "import csv\n",
    "import numpy as np\n",
    "import pandas as pd\n",
    "import datetime\n",
    "import dateparser\n",
    "\n",
    "import requests\n",
    "from requests.auth import HTTPBasicAuth\n",
    "\n",
    "\n",
    "%load_ext dotenv\n",
    "#%reload_ext dotenv\n",
    "\n",
    "# Use find_dotenv to locate the file\n",
    "%dotenv\n",
    "import os"
   ]
  },
  {
   "cell_type": "code",
   "execution_count": null,
   "metadata": {},
   "outputs": [],
   "source": [
    "HOST = \"http://localhost:5000\""
   ]
  },
  {
   "cell_type": "markdown",
   "metadata": {},
   "source": [
    "# auto daily report (flex query)"
   ]
  },
  {
   "cell_type": "code",
   "execution_count": null,
   "metadata": {},
   "outputs": [],
   "source": [
    "ib = {\n",
    "    'QUERY_ID': '332646',\n",
    "    'TOKEN': os.getenv('TOKEN')\n",
    "}\n",
    "\n",
    "\n",
    "res = requests.post(\n",
    "    f'{HOST}/reports/ib/eod/v2', \n",
    "    json=ib, \n",
    "    auth=HTTPBasicAuth(os.getenv('BASIC_AUTH_USERNAME'), os.getenv('BASIC_AUTH_PASSWORD')))\n",
    "json.loads(res.content)"
   ]
  },
  {
   "cell_type": "code",
   "execution_count": null,
   "metadata": {},
   "outputs": [],
   "source": [
    "ib = {\n",
    "    'QUERY_ID': '332646',\n",
    "    'TOKEN': os.getenv('TOKEN')\n",
    "}\n",
    "\n",
    "res = requests.get(\n",
    "    f'{HOST}/reports/ib/eod/v2/reportDate', \n",
    "    json=ib, \n",
    "    auth=HTTPBasicAuth(os.getenv('BASIC_AUTH_USERNAME'), os.getenv('BASIC_AUTH_PASSWORD')))\n",
    "json.loads(res.content)"
   ]
  },
  {
   "cell_type": "markdown",
   "metadata": {},
   "source": [
    "# xls fa_data"
   ]
  },
  {
   "cell_type": "code",
   "execution_count": null,
   "metadata": {},
   "outputs": [],
   "source": [
    "res = requests.get(\n",
    "    f'{HOST}/reports/ib/eod/v2', \n",
    "#    json=json.loads(requests.get('http://127.0.0.1:443/executions').content),\n",
    "    auth=HTTPBasicAuth(os.getenv('BASIC_AUTH_USERNAME'), os.getenv('BASIC_AUTH_PASSWORD')))\n",
    "json.loads(res.content)"
   ]
  },
  {
   "cell_type": "code",
   "execution_count": null,
   "metadata": {},
   "outputs": [],
   "source": [
    "json.loads(requests.get('http://127.0.0.1:443/executions').content)"
   ]
  },
  {
   "cell_type": "code",
   "execution_count": null,
   "metadata": {},
   "outputs": [],
   "source": [
    "res = requests.get(\n",
    "    f'{HOST}/reports/ib/eod/v2', \n",
    "    json=json.loads(requests.get('http://127.0.0.1:443/executions').content),\n",
    "    auth=HTTPBasicAuth(os.getenv('BASIC_AUTH_USERNAME'), os.getenv('BASIC_AUTH_PASSWORD')))\n",
    "json.loads(res.content)"
   ]
  },
  {
   "cell_type": "markdown",
   "metadata": {},
   "source": [
    "# parse CSV report"
   ]
  },
  {
   "cell_type": "code",
   "execution_count": null,
   "metadata": {},
   "outputs": [],
   "source": [
    "data = {}\n",
    "with open('app/reports/data/U1160693_last.csv', 'r', encoding='utf-8-sig') as f:\n",
    "    for row in f:\n",
    "        for one_row in csv.reader([row]):\n",
    "            break\n",
    "\n",
    "        if one_row[0] != '':\n",
    "            if one_row[0] in data:\n",
    "                pass\n",
    "            else:\n",
    "                data[ one_row[0] ] = []\n",
    "\n",
    "            data[ one_row[0] ].append(one_row)\n",
    "\n",
    "data.keys()"
   ]
  },
  {
   "cell_type": "code",
   "execution_count": null,
   "metadata": {},
   "outputs": [],
   "source": [
    "header = \"Statement\"\n",
    "df_statement = pd.DataFrame(\n",
    "                data=data[header][1:],\n",
    "                columns=data[header][0])\n",
    "\n",
    "df_statement = df_statement[ df_statement['Header'] == 'Data' ]\n",
    "df_statement"
   ]
  },
  {
   "cell_type": "code",
   "execution_count": null,
   "metadata": {},
   "outputs": [],
   "source": [
    "dateparser.parse(\"Juillet 27, 2018\").date()"
   ]
  },
  {
   "cell_type": "code",
   "execution_count": null,
   "metadata": {},
   "outputs": [],
   "source": [
    "df_statement[ df_statement['Nom champ'] == 'WhenGenerated' ]['Valeur champ'].values[0][:10]"
   ]
  },
  {
   "cell_type": "code",
   "execution_count": null,
   "metadata": {
    "scrolled": true
   },
   "outputs": [],
   "source": [
    "header = 'Informations instrument financier'\n",
    "\n",
    "list_multiple_assetClasses = data[header]\n",
    "\n",
    "\n",
    "dict_assetClasses = {}\n",
    "k = 0\n",
    "last_header = ''\n",
    "for row in list_multiple_assetClasses:\n",
    "\n",
    "    if row[1] == 'Header':\n",
    "        last_header = str(k)\n",
    "        k = k + 1\n",
    "        dict_assetClasses[ last_header ] = []\n",
    "    dict_assetClasses[ last_header ].append( row )\n",
    "\n",
    "\n",
    "list_refData = []\n",
    "\n",
    "cols = []\n",
    "\n",
    "numeric_fields = ['Multiplicateur']\n",
    "\n",
    "for assetClass in dict_assetClasses:\n",
    "    cols = cols + dict_assetClasses[assetClass][0]\n",
    "    cols = list(set(cols))\n",
    "\n",
    "for assetClass in dict_assetClasses:\n",
    "    df_refData = pd.DataFrame(\n",
    "        data=dict_assetClasses[assetClass][1:],\n",
    "        columns=dict_assetClasses[assetClass][0]\n",
    "    )\n",
    "    df_refData = df_refData[ df_refData['Header'] == 'Data' ]\n",
    "\n",
    "\n",
    "    list_refData.append(df_refData)\n",
    "\n",
    "#cols\n",
    "df_refData = pd.concat(list_refData, axis=0, ignore_index=True, sort=False)\n",
    "\n",
    "for field in numeric_fields:\n",
    "    df_refData[field] = df_refData[field].replace(to_replace='--', value=np.nan)\n",
    "    df_refData[field] = pd.to_numeric( df_refData[field].str.replace(',', '') )\n",
    "\n",
    "\n",
    "date_fields = ['Expiration']\n",
    "for field in date_fields:\n",
    "    df_refData[field] = pd.to_datetime( df_refData[field], format=\"%Y-%m-%d\" )\n",
    "\n",
    "\n",
    "headers_refData = ['Catégorie d\\'actifs', 'Symbole', 'Description', 'Conid', 'Multiplicateur', 'Expiration', 'Type', 'Prix de Levée' ]\n",
    "headers_toShow = headers_refData\n",
    "\n",
    "\n",
    "list_refData = df_refData.to_dict(orient='record')\n",
    "\n",
    "refData = {}\n",
    "for asset in list_refData:\n",
    "    refData[ asset['Symbole'] ] = asset\n",
    "\n",
    "df_refData = pd.DataFrame( list_refData )\n",
    "\n",
    "df_refData"
   ]
  },
  {
   "cell_type": "code",
   "execution_count": null,
   "metadata": {},
   "outputs": [],
   "source": [
    "def patch_missing_date(input_date):\n",
    "    if pd.isnull(input_date):\n",
    "        return None\n",
    "    else:\n",
    "        return input_date.strftime('%Y-%m-%d')"
   ]
  },
  {
   "cell_type": "code",
   "execution_count": null,
   "metadata": {},
   "outputs": [],
   "source": [
    "df_refData.Expiration.apply(patch_missing_date)"
   ]
  },
  {
   "cell_type": "code",
   "execution_count": null,
   "metadata": {},
   "outputs": [],
   "source": [
    "host = 'http://localhost:5000/'"
   ]
  },
  {
   "cell_type": "code",
   "execution_count": null,
   "metadata": {},
   "outputs": [],
   "source": [
    "auth=HTTPBasicAuth(os.environ.get('BASIC_AUTH_USERNAME'), os.environ.get('BASIC_AUTH_PASSWORD') )"
   ]
  },
  {
   "cell_type": "code",
   "execution_count": null,
   "metadata": {},
   "outputs": [],
   "source": [
    "requests.get(host, auth=auth )"
   ]
  },
  {
   "cell_type": "code",
   "execution_count": null,
   "metadata": {},
   "outputs": [],
   "source": [
    "res = requests.get(host + 'reports/ib/eod/fxrate', auth=auth)\n",
    "df_fxRate = pd.DataFrame( [{'Devise': 'EUR', 'Taux': 1.0}] + json.loads(res.content) )\n",
    "df_fxRate.set_index('Devise', inplace=True)\n",
    "df_fxRate"
   ]
  },
  {
   "cell_type": "code",
   "execution_count": null,
   "metadata": {},
   "outputs": [],
   "source": [
    "df_fxRate.loc['EUR']['Taux']"
   ]
  },
  {
   "cell_type": "code",
   "execution_count": null,
   "metadata": {},
   "outputs": [],
   "source": [
    "res = requests.get(host + 'reports/ib/eod/transactions', auth=auth)\n",
    "df = pd.DataFrame( json.loads(res.content) )\n",
    "df.head()"
   ]
  },
  {
   "cell_type": "code",
   "execution_count": null,
   "metadata": {},
   "outputs": [],
   "source": [
    "res = requests.get('http://localhost:443/executions')\n",
    "executions = json.loads(res.content)\n",
    "executions"
   ]
  },
  {
   "cell_type": "code",
   "execution_count": null,
   "metadata": {},
   "outputs": [],
   "source": [
    "res = requests.get(host + 'reports/ib/eod', auth=auth, json={'execDetails': []})\n",
    "res.content"
   ]
  },
  {
   "cell_type": "code",
   "execution_count": null,
   "metadata": {},
   "outputs": [],
   "source": [
    "res = requests.get(host + 'reports/ib/eod', auth=auth, json={'execDetails': []})\n",
    "df_pos = pd.DataFrame( json.loads(res.content) )\n",
    "df_pos.head()"
   ]
  },
  {
   "cell_type": "code",
   "execution_count": null,
   "metadata": {},
   "outputs": [],
   "source": [
    "res = requests.get(host + 'reports/ib/eod', auth=auth, json=executions )\n",
    "df_pos = pd.DataFrame( json.loads(res.content) )\n",
    "\n",
    "df_pos"
   ]
  },
  {
   "cell_type": "code",
   "execution_count": null,
   "metadata": {},
   "outputs": [],
   "source": [
    "data = {\n",
    "    'execId': 'exec' + str( random.randint(1000, 10000000) ),\n",
    "    'orderId': str( random.randint(1000, 10000000) ),\n",
    "    'time': '20180604  13:32:52',\n",
    "    'acctNumber': 'U' + str( random.randint(1000, 10000000) ),\n",
    "    'exchange': 'CBOE',\n",
    "    'side': 'BOT',\n",
    "    'shares': 13,\n",
    "    'cumQty': -13,\n",
    "    'price': 7.23,\n",
    "    'avgPrice': -7.23,\n",
    "    'permId': str( random.randint(1000, 10000000) ),\n",
    "    \n",
    "    'localSymbol': 'GOOGL 6 C1200.25 Equity',\n",
    "    'secType': 'OPT',\n",
    "    'symbol': 'GOOGL',\n",
    "    'currency': 'USD',\n",
    "    'primaryExchange': '',\n",
    "    'lastTradeDateOrContractMonth': '20180615',\n",
    "    'multiplier': 100,\n",
    "    'strike': 1200.25,\n",
    "    'right': 'C'\n",
    "    \n",
    "}\n",
    "data"
   ]
  },
  {
   "cell_type": "code",
   "execution_count": null,
   "metadata": {
    "scrolled": true
   },
   "outputs": [],
   "source": [
    "data2 = {\n",
    "    'execId': 'exec' + str( random.randint(1000, 10000000) ),\n",
    "    'orderId': str( random.randint(1000, 10000000) ),\n",
    "    'time': '20180604  13:32:52',\n",
    "    'acctNumber': 'U' + str( random.randint(1000, 10000000) ),\n",
    "    'exchange': 'CBOE',\n",
    "    'side': 'BOT',\n",
    "    'shares': 13,\n",
    "    'cumQty': -13,\n",
    "    'price': 7.23,\n",
    "    'avgPrice': -7.23,\n",
    "    'permId': str( random.randint(1000, 10000000) ),\n",
    "    \n",
    "    'localSymbol': 'GOOGL 6 C' + str( random.randint(900, 1400) ) + '.25 Equity',\n",
    "    'secType': 'OPT',\n",
    "    'symbol': 'GOOGL',\n",
    "    'currency': 'USD',\n",
    "    'primaryExchange': '',\n",
    "    'lastTradeDateOrContractMonth': '20180615',\n",
    "    'multiplier': 100,\n",
    "    'strike': 1200.25,\n",
    "    'right': 'C'\n",
    "    \n",
    "}\n",
    "\n",
    "res = requests.post(host + 'executions', auth=auth,json=data2 )\n",
    "#res.content\n",
    "json.loads(res.content)"
   ]
  },
  {
   "cell_type": "code",
   "execution_count": null,
   "metadata": {},
   "outputs": [],
   "source": [
    "res = requests.get(host + 'bridge/missing', auth=auth )\n",
    "#res.content\n",
    "missings = json.loads(res.content)\n",
    "missings['ib']"
   ]
  },
  {
   "cell_type": "code",
   "execution_count": null,
   "metadata": {},
   "outputs": [],
   "source": [
    "for ib in missings['ib']:\n",
    "    data3 = {\n",
    "        \"localSymbol\": ib,\n",
    "        \"ticker\": ib.upper()\n",
    "    }\n",
    "    #res = requests.post(host + 'bridge', auth=auth,json=data3 )\n",
    "    #print(res.content)"
   ]
  },
  {
   "cell_type": "code",
   "execution_count": null,
   "metadata": {},
   "outputs": [],
   "source": [
    "data3 = {\n",
    "    'ticker': 'GOOGL US EQUITY'\n",
    "}\n",
    "\n",
    "res = requests.post(host + 'bridge/bbg/ib', auth=auth,json=data3 )\n",
    "#res.content\n",
    "json.loads(res.content)"
   ]
  },
  {
   "cell_type": "code",
   "execution_count": null,
   "metadata": {},
   "outputs": [],
   "source": [
    "data4 = {\n",
    "    'tickers': ['GOOGL US EQUITY', 'AAPL US equity', 'blub uq equity']\n",
    "}\n",
    "\n",
    "res = requests.post(\n",
    "    f'{HOST}/bridge/bbgs/ibs', \n",
    "    auth=HTTPBasicAuth(os.getenv('BASIC_AUTH_USERNAME'), os.getenv('BASIC_AUTH_PASSWORD')), \n",
    "    json=data4 )\n",
    "#res.content\n",
    "json.loads(res.content)"
   ]
  },
  {
   "cell_type": "code",
   "execution_count": null,
   "metadata": {},
   "outputs": [],
   "source": [
    "res = requests.get(host + 'bridge/backup', auth=auth )\n",
    "#res.content\n",
    "json.loads(res.content)"
   ]
  },
  {
   "cell_type": "code",
   "execution_count": null,
   "metadata": {},
   "outputs": [],
   "source": [
    "data5 = {\n",
    "    'tickers': ['GOOGL US EQUITY', 'AAPL US equity', 'blub uq equity']\n",
    "}\n",
    "\n",
    "\n",
    "res = requests.post(\n",
    "    f'{HOST}/ibsymbology/bbgs/ibs', \n",
    "    auth=HTTPBasicAuth(os.getenv('BASIC_AUTH_USERNAME'), os.getenv('BASIC_AUTH_PASSWORD')), \n",
    "    json=data5 )\n",
    "#res.content\n",
    "json.loads(res.content)"
   ]
  },
  {
   "cell_type": "code",
   "execution_count": null,
   "metadata": {},
   "outputs": [],
   "source": [
    "res = requests.get(\n",
    "    f'{HOST}/ibsymbology/recent/2018-11-19 16:17:00', \n",
    "    auth=HTTPBasicAuth(os.getenv('BASIC_AUTH_USERNAME'), os.getenv('BASIC_AUTH_PASSWORD'))\n",
    ")\n",
    "#res.content\n",
    "json.loads(res.content)"
   ]
  },
  {
   "cell_type": "code",
   "execution_count": null,
   "metadata": {},
   "outputs": [],
   "source": []
  }
 ],
 "metadata": {
  "kernelspec": {
   "display_name": "Python 3",
   "language": "python",
   "name": "python3"
  },
  "language_info": {
   "codemirror_mode": {
    "name": "ipython",
    "version": 3
   },
   "file_extension": ".py",
   "mimetype": "text/x-python",
   "name": "python",
   "nbconvert_exporter": "python",
   "pygments_lexer": "ipython3",
   "version": "3.7.0"
  }
 },
 "nbformat": 4,
 "nbformat_minor": 2
}
